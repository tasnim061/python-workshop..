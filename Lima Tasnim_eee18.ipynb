{
 "cells": [
  {
   "cell_type": "markdown",
   "id": "involved-arcade",
   "metadata": {},
   "source": [
    "## About Data Types\n",
    "**Question-1: What is data type?**<br>\n",
    "**Answer:** Data types are the classification or categorization of data items.<br> It represents the kind of value that tells what operations can be performed on a particular data. Since everything is an object in Python programming, data types are actually classes and variables are instance (object) of these classes.\n",
    "\n",
    "**Question-2: Descibe all data type with variable.**<br>\n",
    "**Answer:** The data type of python are given bellow: <br>\n",
    "\n",
    "1. Numeric. In python all numeric type represents are whole positive and negative numbers.Example:\n",
    "    1. Integer.\n",
    "    2. Complex.\n",
    "    3. Float.\n",
    "2. Sequence type.In python,sequence is the ordered collection of similar or different data types.\n",
    "    1. Strings.\n",
    "    2. List.\n",
    "    3. Tuple.\n",
    "3. Boolean.\n",
    "4. Set.\n",
    "5. Dictionary.\n",
    "\n",
    "#### 1. Integer:<br>\n",
    "This value is represented whole positive and negative numbers.Example:\n",
    "```python\n",
    "x1 = 61\n",
    "print(x1, type(x1))\n",
    "```\n",
    "                \n",
    "#### 2.Float:<br> \n",
    "This value is represented by float class.It is a real number with floating point represntation. Example:\n",
    "```python\n",
    "y1 = 0.76\n",
    "print(y1, type(y1))\n",
    "```\n",
    "#### 3.Complex:<br>\n",
    "Complex number is represented by complex class.It is specified as (real part)+ (imaginary part)j.Example:\n",
    "```python\n",
    "z1 = -2 + 5j\n",
    "print(z1, type(z1))\n",
    "```\n",
    "#### 4.Strings:<br>\n",
    "A string is a collection of one or more characters put in a single quote, double quote or triple quote.It is represented by str class.Example:\n",
    "```python\n",
    "string1 = \"Wellcome to our python workshop\"\n",
    "print(string1, type(string1))\n",
    "```\n",
    "#### 5.List:<br>\n",
    "List are just like arrays, declared in other languages which is a ordered collection of data. It is very flexible as the items in a list do not need to be of the same type.Ex:\n",
    "```python\n",
    "list1 = [\"Nepal\",\"Bhutan\", \"China\",\"India\"]\n",
    "print(list1, type(list1))\n",
    "```\n",
    "#### 6.Tuple:<br>\n",
    "Tuple is also an ordered collection of Python objects. The only difference between tuple and list is that tuples are immutable i.e. tuples cannot be modified after it is created. It is represented by tuple class.<br>Example:\n",
    "```python\n",
    "tp = (1, 2, 3, 4)\n",
    "print(tp, type(tp))\n",
    "```\n",
    "#### 7.Boolean:<br>\n",
    "Data type with one of the two built-in values, True or False. Boolean objects that are equal to True are truthy (true), and those equal to False are falsy (false). But non-Boolean objects can be evaluated in Boolean context as well and determined to be true or false. It is denoted by the class bool.Ex:\n",
    "```python\n",
    "x = 5==(3+2)\n",
    "print(x, type(x))\n",
    "```\n",
    "#### 8.Set:<br> \n",
    "Set is an unordered collection of data type that is iterable, mutable and has no duplicate elements. The order of elements in a set is undefined though it may consist of various elements.Ex:\n",
    "```python\n",
    "item ={\"Pen,\", \"Laptop\", \"cellphone\"}\n",
    "print(item, type(item))\n",
    "```\n",
    "    \n",
    "#### 9.Dictionary:<br>\n",
    "Dictionary in Python is an unordered collection of data values, used to store data values like a map, which unlike other Data Types that hold only single value as an element, Dictionary holds key:value pair. Key value is provided in the dictionary to make it more optimized.Ex:\n",
    "```python\n",
    "marks = {1: 77, 2: 92, 3: 78, 4:99}\n",
    "print(marks[2], type(marks))\n",
    "```"
   ]
  },
  {
   "cell_type": "markdown",
   "id": "horizontal-wesley",
   "metadata": {},
   "source": [
    "## Input and output\n",
    "**Question-2:** Explain each parameter of print(*objrct, sep='', end='\\n' file = sys.stdout, flush=False)<br>\n",
    "##### Answer:\n",
    "print() is a built-in function that prints the given object to the standard output console or a device. Unlike other programming languages like C, in Python print is a function, not a statement.\n",
    "\n",
    "print(*objects, sep=' ', end='\\n', file=sys.stdout, flush=False)<br>\n",
    "#### Where,\n",
    "* *objects (required) – the objects that are to be printed. It can be multiple comma-separated objects or a single object.\n",
    "* sep – objects in output are separated by sep.\n",
    "* end – printed at last.\n",
    "* file – must be an object with a write(string) method; if it is not present or None, sys.stdout will be used.\n",
    "* flush – decides whether to flush the stream or not. If yes, the stream is forcibly flushed. Default value is False.\n",
    "\n",
    "\n",
    "Here the program using this parameter:\n",
    "\n",
    "\n"
   ]
  },
  {
   "cell_type": "code",
   "execution_count": 102,
   "id": "unusual-links",
   "metadata": {},
   "outputs": [
    {
     "name": "stdout",
     "output_type": "stream",
     "text": [
      "Python is fun.\n",
      "a = 5\n",
      "a = 5 = b\n",
      "Python-Exercises\n",
      "I LOVE- MY COUNTRY\n",
      "VERY MUCH***Hello, world!"
     ]
    },
    {
     "name": "stderr",
     "output_type": "stream",
     "text": [
      "GeeksForGeeks\n"
     ]
    },
    {
     "name": "stdout",
     "output_type": "stream",
     "text": [
      "Bye!!!\n"
     ]
    }
   ],
   "source": [
    "print(\"Python is fun.\")\n",
    "\n",
    "a = 5\n",
    "print(\"a =\", a)\n",
    "b = a                    #for *object parameter.\n",
    "print('a =', a, '= b')  \n",
    "    \n",
    "  \n",
    "print(\"Python\", \"Exercises\", sep=\"-\") #for sep ='' parameter.\n",
    "\n",
    "\n",
    "print(\"I LOVE\", end='-')              #for end ='' parameter.\n",
    "print(\" MY COUNTRY\", end='\\n')\n",
    "print(\"VERY MUCH\", end='***')\n",
    "\n",
    "import sys \n",
    "  \n",
    "print('GeeksForGeeks', file = sys.stderr)#for file parameter.\n",
    "\n",
    "\n",
    "from time import sleep\n",
    "\n",
    "# output is not flushed here\n",
    "print(\"Hello, world!\", end='') #for flush parameter.\n",
    "sleep(5)\n",
    "print(\"Bye!!!\")\n",
    "\n"
   ]
  },
  {
   "cell_type": "markdown",
   "id": "sophisticated-burden",
   "metadata": {},
   "source": [
    "## Operator\n",
    "**Question:**What is python operator? Describe at least three types of operator.\n",
    "#### Answer:\n",
    "Python operator is a symbol that performs an operation on one or more operands. An operand is a variable or a value on which we perform the operation. Python Operator falls into 7 categories:\n",
    "\n",
    "1. Arithmetic Operator\n",
    "2. Relational Operator\n",
    "3. Assignment Operator\n",
    "4. Logical Operator\n",
    "5. Membership Operator\n",
    "6. Identity Operator\n",
    "7. Bitwise Operator   \n",
    "\n",
    "## 1. Arithmetic Operators in Python\n",
    "These Python arithmetic operators include Python operators for basic mathematical operations.Such as, addition,subtraction, multiplication, division, modulas etc.<br>\n",
    "Example:"
   ]
  },
  {
   "cell_type": "code",
   "execution_count": 2,
   "id": "acute-beaver",
   "metadata": {},
   "outputs": [
    {
     "name": "stdout",
     "output_type": "stream",
     "text": [
      "2.5\n",
      "3\n",
      "10\n",
      "2\n",
      "1\n",
      "25\n"
     ]
    }
   ],
   "source": [
    "a1 = 5\n",
    "b1 = 2\n",
    "print(a1/b1)\n",
    "print(a1-b1)\n",
    "print(a1*b1)\n",
    "print(a1//b1)\n",
    "print(a1%b1)\n",
    "print(a1**b1)"
   ]
  },
  {
   "cell_type": "markdown",
   "id": "civilian-macintosh",
   "metadata": {},
   "source": [
    "##  2. Python Relational Operator\n",
    "Relational Python Operator carries out the comparison between operands.\n",
    "\n",
    "They tell us whether an operand is greater than the other, lesser, equal, or a combination of those.<br>Example:\n",
    "    "
   ]
  },
  {
   "cell_type": "code",
   "execution_count": 3,
   "id": "plastic-marsh",
   "metadata": {},
   "outputs": [
    {
     "name": "stdout",
     "output_type": "stream",
     "text": [
      "False\n",
      "False\n",
      "True\n",
      "True\n",
      "False\n",
      "True\n"
     ]
    }
   ],
   "source": [
    "a2 = 10\n",
    "b2 = 20\n",
    "print(a2>b2)\n",
    "print(a2>=b2)\n",
    "print(a2<b2)\n",
    "print(a2<=b2)\n",
    "print(a2==b2)\n",
    "print(a2!=b2)"
   ]
  },
  {
   "cell_type": "markdown",
   "id": "missing-measurement",
   "metadata": {},
   "source": [
    "##  3. Python Assignment Operator\n",
    "Python assignment operator assigns a value to a variable. It may manipulate the value by a factor before assigning it.\n",
    "\n",
    "We have 8 assignment operators- one plain, and seven for the 7 arithmetic python operators.<br>Some examples are given bellow:"
   ]
  },
  {
   "cell_type": "code",
   "execution_count": 7,
   "id": "incident-tucson",
   "metadata": {},
   "outputs": [
    {
     "name": "stdout",
     "output_type": "stream",
     "text": [
      "7\n",
      "3\n",
      "8\n",
      "3.0\n"
     ]
    }
   ],
   "source": [
    "a3= 5\n",
    "a3+= 2\n",
    "b3 =5\n",
    "b3-= 2\n",
    "c3 =4\n",
    "c3*= 2\n",
    "d3 = 15\n",
    "d3/=5\n",
    "print(a3)\n",
    "print(b3)\n",
    "print(c3)\n",
    "print(d3)\n"
   ]
  },
  {
   "cell_type": "markdown",
   "id": "reduced-peeing",
   "metadata": {},
   "source": [
    "## 4. Python Logical Operator\n",
    "These are conjunctions that you can use to combine more than one condition.\n",
    "\n",
    "We have three Python logical operator – and, or, and not that come under python operators.<br>Example:"
   ]
  },
  {
   "cell_type": "code",
   "execution_count": 9,
   "id": "stuck-spank",
   "metadata": {},
   "outputs": [
    {
     "name": "stdout",
     "output_type": "stream",
     "text": [
      "False\n",
      "True\n"
     ]
    }
   ],
   "source": [
    " p=7>7 and 2>-1\n",
    "print(p)\n",
    "p1=7>7 or 2>-1\n",
    "print(p1)\n"
   ]
  },
  {
   "cell_type": "markdown",
   "id": "identical-launch",
   "metadata": {},
   "source": [
    "## 5. Membership Python Operator\n",
    "These operators test whether a value is a member of a sequence. The sequence may be a list, a string, or a tuple.\n",
    "\n",
    "We have two membership python operators- ‘in’ and ‘not in’.<br>Example:"
   ]
  },
  {
   "cell_type": "code",
   "execution_count": 74,
   "id": "loving-saying",
   "metadata": {},
   "outputs": [
    {
     "name": "stdout",
     "output_type": "stream",
     "text": [
      "True\n",
      "False\n",
      "False\n",
      "False\n"
     ]
    }
   ],
   "source": [
    "\n",
    "m =\"Python workshop\" \n",
    "n = {1:'bangla', 2:'english', 3:'hindi'}\n",
    "\n",
    "print('P' in m )        \n",
    "print('workshop' not in m)\n",
    "print(3 not in n)\n",
    "print('hindi' in n)"
   ]
  },
  {
   "cell_type": "markdown",
   "id": "overhead-donor",
   "metadata": {},
   "source": [
    "## 6. Python Identity Operator\n",
    "Let us proceed towards identity Python Operator.\n",
    "\n",
    "These operators test if the two operands share an identity. We have two identity operators- ‘is’ and ‘is not’.<br>Example:"
   ]
  },
  {
   "cell_type": "code",
   "execution_count": 89,
   "id": "eight-guest",
   "metadata": {},
   "outputs": [
    {
     "name": "stdout",
     "output_type": "stream",
     "text": [
      "True\n",
      "False\n",
      "False\n",
      "True\n"
     ]
    }
   ],
   "source": [
    "a = \"Python workshop\"\n",
    "b = {1:'bangla', 2:'english', 3:'hindi'}\n",
    "print (\"work\" in a)\n",
    "print (\"shop\" not in a)\n",
    "print (5 in b)\n",
    "print ('china' not in b)"
   ]
  },
  {
   "cell_type": "markdown",
   "id": "female-destination",
   "metadata": {},
   "source": [
    "## Problem 1\n",
    "● Define a list with 7 elements and print the 3rd element of the list.\n",
    "\n",
    "**Answer:** The progam is given below:"
   ]
  },
  {
   "cell_type": "code",
   "execution_count": 23,
   "id": "communist-complaint",
   "metadata": {},
   "outputs": [
    {
     "name": "stdout",
     "output_type": "stream",
     "text": [
      "Nepal\n"
     ]
    }
   ],
   "source": [
    "list = [\"Bangladesh\",\"India\", \"Nepal\",\"Bhutan\",\"China\"]\n",
    "print(list[2])"
   ]
  },
  {
   "cell_type": "markdown",
   "id": "objective-mortgage",
   "metadata": {},
   "source": [
    "## Problem 2\n",
    "Take two input (say a and b) from user and print three lines where:\n",
    "1. The first line contains the sum of the two numbers.\n",
    "2. The second line contains the difference of the two numbers (first - second).\n",
    "3. The third line contains the product of the two numbers.<br>\n",
    "Example:<br>\n",
    "* a = 3\n",
    "* b = 5<br>\n",
    "Print the following:\n",
    "* 8\n",
    "* -2\n",
    "* 15\n",
    "\n",
    "**Answer:** The program is given below:"
   ]
  },
  {
   "cell_type": "code",
   "execution_count": 38,
   "id": "interim-galaxy",
   "metadata": {},
   "outputs": [
    {
     "name": "stdout",
     "output_type": "stream",
     "text": [
      "Please enter any number: 3\n",
      "Please enter any number: 5\n",
      "\n",
      "\n",
      "sum of the two numbers is = 8\n",
      "Difference between the two numbers is = -2\n",
      "The product of the two numbers is = 15\n"
     ]
    }
   ],
   "source": [
    "a = int(input(\"Please enter any number: \")) \n",
    "b = int(input(\"Please enter any number: \"))\n",
    "\n",
    "print(\"\\n\\nsum of the two numbers is =\", (a + b) )\n",
    "print(\"Difference between the two numbers is =\", (a - b))\n",
    "print(\"The product of the two numbers is =\", (a*b))"
   ]
  },
  {
   "cell_type": "markdown",
   "id": "adjustable-sweet",
   "metadata": {},
   "source": [
    "## Problem 3\n",
    "Take two inputs (say a and b) from the user and add logic to print two lines. The first line should\n",
    "contain the result of integer division . The second line should contain the result of float division.<br>\n",
    "Example<br>\n",
    "* a = 3\n",
    "* b = 5<br>\n",
    "Print the following:\n",
    "* 0\n",
    "* 0.6\n",
    "\n",
    "**Answer:** The program are given below:\n"
   ]
  },
  {
   "cell_type": "code",
   "execution_count": 37,
   "id": "ahead-lesbian",
   "metadata": {},
   "outputs": [
    {
     "name": "stdout",
     "output_type": "stream",
     "text": [
      "Please enter any number:3\n",
      "Please enter any number:5\n",
      "\n",
      "\n",
      "The result of integer division is = 0\n",
      "The result of float division is = 0.6\n"
     ]
    }
   ],
   "source": [
    "a = int(input(\"Please enter any number:\"))\n",
    "b = int(input(\"Please enter any number:\"))\n",
    "\n",
    "print(\"\\n\\nThe result of integer division is =\",(3//b))\n",
    "print(\"The result of float division is =\", (a/b))"
   ]
  },
  {
   "cell_type": "markdown",
   "id": "dynamic-cream",
   "metadata": {},
   "source": [
    "## Problem 4\n",
    "\n",
    "* Write a Python program to display the first and last colors from the\n",
    "following list<br>color_list = [\"Red\",\"Green\",\"White\" ,\"Black\"]<br>\n",
    "\n",
    "**Answer:** The program is given below:\n"
   ]
  },
  {
   "cell_type": "code",
   "execution_count": 25,
   "id": "upper-contest",
   "metadata": {},
   "outputs": [
    {
     "name": "stdout",
     "output_type": "stream",
     "text": [
      "the first color is = Red\n",
      "the last color is = Black\n"
     ]
    }
   ],
   "source": [
    "color_list = [\"Red\", \"Green\", \"White\", \"Black\"]\n",
    "print(\"the first color is =\", color_list[0])\n",
    "print(\"the last color is =\", color_list[-1])"
   ]
  },
  {
   "cell_type": "markdown",
   "id": "circular-differential",
   "metadata": {},
   "source": [
    "## Problem 5\n",
    "Write a Python program to print the following\n",
    "Sample string :\n",
    "\n",
    "a string that you \"don't\" have to escape\n",
    "\n",
    "This\n",
    "is a ....... multi-line\n",
    "heredoc string --------> example<br>\n",
    "\n",
    "**Answer:** The program is given below:\n"
   ]
  },
  {
   "cell_type": "code",
   "execution_count": 41,
   "id": "incredible-plenty",
   "metadata": {},
   "outputs": [
    {
     "name": "stdout",
     "output_type": "stream",
     "text": [
      "a string that you \"don't\" have to escape\n",
      "\t\tThis\n",
      "\tis a.......multi-line\n",
      "heredoc string -------> example\n"
     ]
    }
   ],
   "source": [
    "a=\"a string that you \\\"don't\\\" have to escape\\n\"\n",
    "b = \"This\"\n",
    "c = \"\\tis a\"\n",
    "d = \"multi\"\n",
    "e = \"line\"\n",
    "f = \"heredoc string\"\n",
    "g = \"example\"\n",
    "print(a, b, sep = '\\t\\t')\n",
    "print(c, end= '.......')\n",
    "print(d,e, sep = '-')\n",
    "print(f,g, sep =' -------> ')"
   ]
  },
  {
   "cell_type": "markdown",
   "id": "subtle-cooperation",
   "metadata": {},
   "source": [
    "## Problem 6\n",
    "Write a Python program that will accept the base and height of a triangle and\n",
    "compute the area.<br>\n",
    "\n",
    "**Answer:**The program is given below:"
   ]
  },
  {
   "cell_type": "code",
   "execution_count": 36,
   "id": "relative-modem",
   "metadata": {},
   "outputs": [
    {
     "name": "stdout",
     "output_type": "stream",
     "text": [
      "Enter the base:6\n",
      "Enter the height:9\n",
      "\n",
      "\n",
      "Area of the triangle is = 27.0\n"
     ]
    }
   ],
   "source": [
    "base = int(input(\"Enter the base:\"))\n",
    "height = int(input(\"Enter the height:\"))\n",
    "area = (base*height)/2\n",
    "print(\"\\n\\nArea of the triangle is =\", area)"
   ]
  },
  {
   "cell_type": "markdown",
   "id": "generic-review",
   "metadata": {},
   "source": [
    "## Problem 7\n",
    "Write a Python program to display your details like name, age, address in three\n",
    "different lines.<br>\n",
    "\n",
    "**Answer:** The program is given below:"
   ]
  },
  {
   "cell_type": "code",
   "execution_count": 35,
   "id": "seventh-portable",
   "metadata": {},
   "outputs": [
    {
     "name": "stdout",
     "output_type": "stream",
     "text": [
      "Write your name:  Lima Tasnim\n",
      "Write your age:  22\n",
      "Write your address:   Saidpur,Nilphamari\n",
      "\n",
      "\n",
      "NAME:   Lima Tasnim\n",
      "AGE:     22\n",
      "ADDRESS:   Saidpur,Nilphamari\n"
     ]
    }
   ],
   "source": [
    "name = input(\"Write your name:  \")\n",
    "age = int(input(\"Write your age:  \"))\n",
    "address =input(\"Write your address:   \")\n",
    "\n",
    "\n",
    "print(\"\\n\\nNAME:  \", name)\n",
    "print(\"AGE:    \", age)\n",
    "print(\"ADDRESS:  \",address)"
   ]
  },
  {
   "cell_type": "markdown",
   "id": "downtown-conviction",
   "metadata": {},
   "source": [
    "## Problem 8\n",
    "Python Program for compound interest.\n",
    "Formula to calculate compound interest annually is given by:<br>\n",
    "A = P(1 + R/100)^t <br>\n",
    "Compound Interest = A – P <br>\n",
    "Where,\n",
    "* A is amount\n",
    "* P is principle amount\n",
    "* R is the rate and\n",
    "* T is the time span\n",
    "\n",
    "**Answer:**The program is given bellow:"
   ]
  },
  {
   "cell_type": "code",
   "execution_count": 72,
   "id": "mineral-immune",
   "metadata": {},
   "outputs": [
    {
     "name": "stdout",
     "output_type": "stream",
     "text": [
      "Enter the principle amount : 5000\n",
      "Enter the rate : 6\n",
      "Enter the time span : 2\n",
      "\n",
      "Cmpound interest is =    618.0000000000009\n"
     ]
    }
   ],
   "source": [
    "P = int(input(\"Enter the principle amount : \"))\n",
    "R = float(input(\"Enter the rate : \"))\n",
    "T = float(input(\"Enter the time span : \"))\n",
    "    \n",
    "A = P*(1 +(R/100)) ** T\n",
    "Ci = A - P\n",
    "print(\"\\nCmpound interest is =   \", Ci)\n",
    "\n",
    "\n"
   ]
  },
  {
   "cell_type": "markdown",
   "id": "laughing-assets",
   "metadata": {},
   "source": [
    "## Problem 9\n",
    "Print output like this\n",
    "\n",
    "                       * * * * *\n",
    "\n",
    "                        * * * *\n",
    "\n",
    "                         * * *\n",
    "\n",
    "                          * *\n",
    "\n",
    "                           *\n",
    "                    \n",
    "**Answer:** The program is given bellow:                    "
   ]
  },
  {
   "cell_type": "code",
   "execution_count": 69,
   "id": "printable-oakland",
   "metadata": {},
   "outputs": [
    {
     "name": "stdout",
     "output_type": "stream",
     "text": [
      "* * * * *\n",
      "\n",
      " * * * * \n",
      "\n",
      "  * * * \n",
      "\n",
      "   * *  \n",
      "\n",
      "    *   \n",
      "\n"
     ]
    }
   ],
   "source": [
    "print(\"* * * * *\\n\")\n",
    "print(\" * * * * \\n\")\n",
    "print(\"  * * * \\n\")\n",
    "print(\"   * *  \\n\")\n",
    "print(\"    *   \\n\")"
   ]
  },
  {
   "cell_type": "markdown",
   "id": "brown-toyota",
   "metadata": {},
   "source": [
    "## Problem 10\n",
    "Python Program to Convert Celsius To Fahrenheit.<br>\n",
    "\n",
    "Hints : celsius * 1.8 = fahrenheit - 32 <br>\n",
    "    \n",
    "**Answer:** The program is given beliw:    "
   ]
  },
  {
   "cell_type": "code",
   "execution_count": 57,
   "id": "endangered-crisis",
   "metadata": {},
   "outputs": [
    {
     "name": "stdout",
     "output_type": "stream",
     "text": [
      "Enter the temperature in Celsious:37\n",
      "\n",
      "\n",
      "37.00 Celsious is equal to 98.60 degree Fahrenheit\n"
     ]
    }
   ],
   "source": [
    "Celsious = float(input(\"Enter the temperature in Celsious:\"))\n",
    "Fahrenheit = (Celsious*1.8) + 32\n",
    "print(\"\\n\\n%.2f Celsious is equal to %0.2f degree Fahrenheit\" %(Celsious , Fahrenheit))"
   ]
  },
  {
   "cell_type": "code",
   "execution_count": null,
   "id": "quality-pharmacy",
   "metadata": {},
   "outputs": [],
   "source": []
  }
 ],
 "metadata": {
  "kernelspec": {
   "display_name": "Python 3",
   "language": "python",
   "name": "python3"
  },
  "language_info": {
   "codemirror_mode": {
    "name": "ipython",
    "version": 3
   },
   "file_extension": ".py",
   "mimetype": "text/x-python",
   "name": "python",
   "nbconvert_exporter": "python",
   "pygments_lexer": "ipython3",
   "version": "3.8.8"
  }
 },
 "nbformat": 4,
 "nbformat_minor": 5
}
